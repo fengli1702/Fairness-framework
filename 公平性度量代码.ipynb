{
  "cells": [
    {
      "cell_type": "code",
      "execution_count": 6,
      "metadata": {
        "colab": {
          "base_uri": "https://localhost:8080/"
        },
        "id": "WJGlnFaHtfSF",
        "outputId": "fac29271-0919-4990-9453-854e969fbd3d"
      },
      "outputs": [
        {
          "name": "stdout",
          "output_type": "stream",
          "text": [
            "Cloning into 'Fairness-framework'...\n",
            "remote: Enumerating objects: 25, done.\u001b[K\n",
            "remote: Counting objects:   4% (1/25)\u001b[K\rremote: Counting objects:   8% (2/25)\u001b[K\rremote: Counting objects:  12% (3/25)\u001b[K\rremote: Counting objects:  16% (4/25)\u001b[K\rremote: Counting objects:  20% (5/25)\u001b[K\rremote: Counting objects:  24% (6/25)\u001b[K\rremote: Counting objects:  28% (7/25)\u001b[K\rremote: Counting objects:  32% (8/25)\u001b[K\rremote: Counting objects:  36% (9/25)\u001b[K\rremote: Counting objects:  40% (10/25)\u001b[K\rremote: Counting objects:  44% (11/25)\u001b[K\rremote: Counting objects:  48% (12/25)\u001b[K\rremote: Counting objects:  52% (13/25)\u001b[K\rremote: Counting objects:  56% (14/25)\u001b[K\rremote: Counting objects:  60% (15/25)\u001b[K\rremote: Counting objects:  64% (16/25)\u001b[K\rremote: Counting objects:  68% (17/25)\u001b[K\rremote: Counting objects:  72% (18/25)\u001b[K\rremote: Counting objects:  76% (19/25)\u001b[K\rremote: Counting objects:  80% (20/25)\u001b[K\rremote: Counting objects:  84% (21/25)\u001b[K\rremote: Counting objects:  88% (22/25)\u001b[K\rremote: Counting objects:  92% (23/25)\u001b[K\rremote: Counting objects:  96% (24/25)\u001b[K\rremote: Counting objects: 100% (25/25)\u001b[K\rremote: Counting objects: 100% (25/25), done.\u001b[K\n",
            "remote: Compressing objects: 100% (23/23), done.\u001b[K\n",
            "remote: Total 25 (delta 1), reused 25 (delta 1), pack-reused 0 (from 0)\u001b[K\n",
            "Receiving objects: 100% (25/25), 1.81 MiB | 10.06 MiB/s, done.\n",
            "Resolving deltas: 100% (1/1), done.\n"
          ]
        }
      ],
      "source": [
        "!git clone https://github.com/fengli1702/Fairness-framework.git"
      ]
    },
    {
      "cell_type": "code",
      "execution_count": 20,
      "metadata": {
        "colab": {
          "base_uri": "https://localhost:8080/"
        },
        "id": "JmzeyYs926hK",
        "outputId": "6e56b25d-c685-4816-d599-c17143ac7611"
      },
      "outputs": [
        {
          "name": "stdout",
          "output_type": "stream",
          "text": [
            "Collecting EduCDM\n",
            "  Downloading EduCDM-0.0.13-py3-none-any.whl.metadata (505 bytes)\n",
            "Requirement already satisfied: torch in /usr/local/lib/python3.10/dist-packages (from EduCDM) (2.4.1+cu121)\n",
            "Requirement already satisfied: tqdm in /usr/local/lib/python3.10/dist-packages (from EduCDM) (4.66.5)\n",
            "Requirement already satisfied: numpy>=1.16.5 in /usr/local/lib/python3.10/dist-packages (from EduCDM) (1.26.4)\n",
            "Requirement already satisfied: scikit-learn in /usr/local/lib/python3.10/dist-packages (from EduCDM) (1.5.2)\n",
            "Requirement already satisfied: pandas in /usr/local/lib/python3.10/dist-packages (from EduCDM) (2.2.2)\n",
            "Collecting longling>=1.3.33 (from EduCDM)\n",
            "  Downloading longling-1.4.3-py3-none-any.whl.metadata (5.0 kB)\n",
            "Requirement already satisfied: pip in /usr/local/lib/python3.10/dist-packages (from longling>=1.3.33->EduCDM) (24.1.2)\n",
            "Collecting fire (from longling>=1.3.33->EduCDM)\n",
            "  Downloading fire-0.7.0.tar.gz (87 kB)\n",
            "\u001b[2K     \u001b[90m━━━━━━━━━━━━━━━━━━━━━━━━━━━━━━━━━━━━━━━━\u001b[0m \u001b[32m87.2/87.2 kB\u001b[0m \u001b[31m2.1 MB/s\u001b[0m eta \u001b[36m0:00:00\u001b[0m\n",
            "\u001b[?25h  Preparing metadata (setup.py) ... \u001b[?25l\u001b[?25hdone\n",
            "Requirement already satisfied: PyYAML>=5.1 in /usr/local/lib/python3.10/dist-packages (from longling>=1.3.33->EduCDM) (6.0.2)\n",
            "Requirement already satisfied: toml in /usr/local/lib/python3.10/dist-packages (from longling>=1.3.33->EduCDM) (0.10.2)\n",
            "Collecting multiprocess (from longling>=1.3.33->EduCDM)\n",
            "  Downloading multiprocess-0.70.17-py310-none-any.whl.metadata (7.2 kB)\n",
            "Requirement already satisfied: joblib in /usr/local/lib/python3.10/dist-packages (from longling>=1.3.33->EduCDM) (1.4.2)\n",
            "Requirement already satisfied: python-dateutil>=2.8.2 in /usr/local/lib/python3.10/dist-packages (from pandas->EduCDM) (2.8.2)\n",
            "Requirement already satisfied: pytz>=2020.1 in /usr/local/lib/python3.10/dist-packages (from pandas->EduCDM) (2024.2)\n",
            "Requirement already satisfied: tzdata>=2022.7 in /usr/local/lib/python3.10/dist-packages (from pandas->EduCDM) (2024.2)\n",
            "Requirement already satisfied: scipy>=1.6.0 in /usr/local/lib/python3.10/dist-packages (from scikit-learn->EduCDM) (1.13.1)\n",
            "Requirement already satisfied: threadpoolctl>=3.1.0 in /usr/local/lib/python3.10/dist-packages (from scikit-learn->EduCDM) (3.5.0)\n",
            "Requirement already satisfied: filelock in /usr/local/lib/python3.10/dist-packages (from torch->EduCDM) (3.16.1)\n",
            "Requirement already satisfied: typing-extensions>=4.8.0 in /usr/local/lib/python3.10/dist-packages (from torch->EduCDM) (4.12.2)\n",
            "Requirement already satisfied: sympy in /usr/local/lib/python3.10/dist-packages (from torch->EduCDM) (1.13.3)\n",
            "Requirement already satisfied: networkx in /usr/local/lib/python3.10/dist-packages (from torch->EduCDM) (3.3)\n",
            "Requirement already satisfied: jinja2 in /usr/local/lib/python3.10/dist-packages (from torch->EduCDM) (3.1.4)\n",
            "Requirement already satisfied: fsspec in /usr/local/lib/python3.10/dist-packages (from torch->EduCDM) (2024.6.1)\n",
            "Requirement already satisfied: six>=1.5 in /usr/local/lib/python3.10/dist-packages (from python-dateutil>=2.8.2->pandas->EduCDM) (1.16.0)\n",
            "Requirement already satisfied: termcolor in /usr/local/lib/python3.10/dist-packages (from fire->longling>=1.3.33->EduCDM) (2.4.0)\n",
            "Requirement already satisfied: MarkupSafe>=2.0 in /usr/local/lib/python3.10/dist-packages (from jinja2->torch->EduCDM) (2.1.5)\n",
            "Collecting dill>=0.3.9 (from multiprocess->longling>=1.3.33->EduCDM)\n",
            "  Downloading dill-0.3.9-py3-none-any.whl.metadata (10 kB)\n",
            "Requirement already satisfied: mpmath<1.4,>=1.1.0 in /usr/local/lib/python3.10/dist-packages (from sympy->torch->EduCDM) (1.3.0)\n",
            "Downloading EduCDM-0.0.13-py3-none-any.whl (45 kB)\n",
            "\u001b[2K   \u001b[90m━━━━━━━━━━━━━━━━━━━━━━━━━━━━━━━━━━━━━━━━\u001b[0m \u001b[32m45.0/45.0 kB\u001b[0m \u001b[31m2.5 MB/s\u001b[0m eta \u001b[36m0:00:00\u001b[0m\n",
            "\u001b[?25hDownloading longling-1.4.3-py3-none-any.whl (141 kB)\n",
            "\u001b[2K   \u001b[90m━━━━━━━━━━━━━━━━━━━━━━━━━━━━━━━━━━━━━━━━\u001b[0m \u001b[32m141.2/141.2 kB\u001b[0m \u001b[31m6.1 MB/s\u001b[0m eta \u001b[36m0:00:00\u001b[0m\n",
            "\u001b[?25hDownloading multiprocess-0.70.17-py310-none-any.whl (134 kB)\n",
            "\u001b[2K   \u001b[90m━━━━━━━━━━━━━━━━━━━━━━━━━━━━━━━━━━━━━━━━\u001b[0m \u001b[32m134.8/134.8 kB\u001b[0m \u001b[31m7.2 MB/s\u001b[0m eta \u001b[36m0:00:00\u001b[0m\n",
            "\u001b[?25hDownloading dill-0.3.9-py3-none-any.whl (119 kB)\n",
            "\u001b[2K   \u001b[90m━━━━━━━━━━━━━━━━━━━━━━━━━━━━━━━━━━━━━━━━\u001b[0m \u001b[32m119.4/119.4 kB\u001b[0m \u001b[31m7.0 MB/s\u001b[0m eta \u001b[36m0:00:00\u001b[0m\n",
            "\u001b[?25hBuilding wheels for collected packages: fire\n",
            "  Building wheel for fire (setup.py) ... \u001b[?25l\u001b[?25hdone\n",
            "  Created wheel for fire: filename=fire-0.7.0-py3-none-any.whl size=114250 sha256=95b00ab8be88acb57987f5afcc57f4ac7c843b81f596de191bd6fe5c58046322\n",
            "  Stored in directory: /root/.cache/pip/wheels/19/39/2f/2d3cadc408a8804103f1c34ddd4b9f6a93497b11fa96fe738e\n",
            "Successfully built fire\n",
            "Installing collected packages: fire, dill, multiprocess, longling, EduCDM\n",
            "Successfully installed EduCDM-0.0.13 dill-0.3.9 fire-0.7.0 longling-1.4.3 multiprocess-0.70.17\n",
            "Collecting EduData\n",
            "  Downloading EduData-0.0.18-py3-none-any.whl.metadata (845 bytes)\n",
            "Requirement already satisfied: tqdm in /usr/local/lib/python3.10/dist-packages (from EduData) (4.66.5)\n",
            "Requirement already satisfied: networkx in /usr/local/lib/python3.10/dist-packages (from EduData) (3.3)\n",
            "Requirement already satisfied: longling>=1.3.15 in /usr/local/lib/python3.10/dist-packages (from longling[ml]>=1.3.15->EduData) (1.4.3)\n",
            "Requirement already satisfied: requests in /usr/local/lib/python3.10/dist-packages (from EduData) (2.32.3)\n",
            "Collecting bs4 (from EduData)\n",
            "  Downloading bs4-0.0.2-py2.py3-none-any.whl.metadata (411 bytes)\n",
            "Collecting rarfile (from EduData)\n",
            "  Downloading rarfile-4.2-py3-none-any.whl.metadata (4.4 kB)\n",
            "Requirement already satisfied: pandas in /usr/local/lib/python3.10/dist-packages (from EduData) (2.2.2)\n",
            "Requirement already satisfied: fire in /usr/local/lib/python3.10/dist-packages (from EduData) (0.7.0)\n",
            "Requirement already satisfied: lxml in /usr/local/lib/python3.10/dist-packages (from EduData) (4.9.4)\n",
            "Requirement already satisfied: numpy>=1.16.5 in /usr/local/lib/python3.10/dist-packages (from EduData) (1.26.4)\n",
            "Requirement already satisfied: scipy>=1.2.0 in /usr/local/lib/python3.10/dist-packages (from EduData) (1.13.1)\n",
            "Requirement already satisfied: scikit-learn>=0.23.2 in /usr/local/lib/python3.10/dist-packages (from EduData) (1.5.2)\n",
            "Requirement already satisfied: pip in /usr/local/lib/python3.10/dist-packages (from longling>=1.3.15->longling[ml]>=1.3.15->EduData) (24.1.2)\n",
            "Requirement already satisfied: PyYAML>=5.1 in /usr/local/lib/python3.10/dist-packages (from longling>=1.3.15->longling[ml]>=1.3.15->EduData) (6.0.2)\n",
            "Requirement already satisfied: toml in /usr/local/lib/python3.10/dist-packages (from longling>=1.3.15->longling[ml]>=1.3.15->EduData) (0.10.2)\n",
            "Requirement already satisfied: multiprocess in /usr/local/lib/python3.10/dist-packages (from longling>=1.3.15->longling[ml]>=1.3.15->EduData) (0.70.17)\n",
            "Requirement already satisfied: joblib in /usr/local/lib/python3.10/dist-packages (from longling>=1.3.15->longling[ml]>=1.3.15->EduData) (1.4.2)\n",
            "Collecting nni (from longling[ml]>=1.3.15->EduData)\n",
            "  Downloading nni-3.0-py3-none-manylinux1_x86_64.whl.metadata (19 kB)\n",
            "Requirement already satisfied: threadpoolctl>=3.1.0 in /usr/local/lib/python3.10/dist-packages (from scikit-learn>=0.23.2->EduData) (3.5.0)\n",
            "Requirement already satisfied: beautifulsoup4 in /usr/local/lib/python3.10/dist-packages (from bs4->EduData) (4.12.3)\n",
            "Requirement already satisfied: termcolor in /usr/local/lib/python3.10/dist-packages (from fire->EduData) (2.4.0)\n",
            "Requirement already satisfied: python-dateutil>=2.8.2 in /usr/local/lib/python3.10/dist-packages (from pandas->EduData) (2.8.2)\n",
            "Requirement already satisfied: pytz>=2020.1 in /usr/local/lib/python3.10/dist-packages (from pandas->EduData) (2024.2)\n",
            "Requirement already satisfied: tzdata>=2022.7 in /usr/local/lib/python3.10/dist-packages (from pandas->EduData) (2024.2)\n",
            "Requirement already satisfied: charset-normalizer<4,>=2 in /usr/local/lib/python3.10/dist-packages (from requests->EduData) (3.3.2)\n",
            "Requirement already satisfied: idna<4,>=2.5 in /usr/local/lib/python3.10/dist-packages (from requests->EduData) (3.10)\n",
            "Requirement already satisfied: urllib3<3,>=1.21.1 in /usr/local/lib/python3.10/dist-packages (from requests->EduData) (2.2.3)\n",
            "Requirement already satisfied: certifi>=2017.4.17 in /usr/local/lib/python3.10/dist-packages (from requests->EduData) (2024.8.30)\n",
            "Requirement already satisfied: six>=1.5 in /usr/local/lib/python3.10/dist-packages (from python-dateutil>=2.8.2->pandas->EduData) (1.16.0)\n",
            "Requirement already satisfied: soupsieve>1.2 in /usr/local/lib/python3.10/dist-packages (from beautifulsoup4->bs4->EduData) (2.6)\n",
            "Requirement already satisfied: dill>=0.3.9 in /usr/local/lib/python3.10/dist-packages (from multiprocess->longling>=1.3.15->longling[ml]>=1.3.15->EduData) (0.3.9)\n",
            "Collecting astor (from nni->longling[ml]>=1.3.15->EduData)\n",
            "  Downloading astor-0.8.1-py2.py3-none-any.whl.metadata (4.2 kB)\n",
            "Requirement already satisfied: cloudpickle in /usr/local/lib/python3.10/dist-packages (from nni->longling[ml]>=1.3.15->EduData) (2.2.1)\n",
            "Collecting colorama (from nni->longling[ml]>=1.3.15->EduData)\n",
            "  Downloading colorama-0.4.6-py2.py3-none-any.whl.metadata (17 kB)\n",
            "Collecting filelock<3.12 (from nni->longling[ml]>=1.3.15->EduData)\n",
            "  Downloading filelock-3.11.0-py3-none-any.whl.metadata (2.5 kB)\n",
            "Collecting json-tricks>=3.15.5 (from nni->longling[ml]>=1.3.15->EduData)\n",
            "  Downloading json_tricks-3.17.3-py2.py3-none-any.whl.metadata (16 kB)\n",
            "Collecting nvidia-ml-py (from nni->longling[ml]>=1.3.15->EduData)\n",
            "  Downloading nvidia_ml_py-12.560.30-py3-none-any.whl.metadata (8.6 kB)\n",
            "Requirement already satisfied: packaging in /usr/local/lib/python3.10/dist-packages (from nni->longling[ml]>=1.3.15->EduData) (24.1)\n",
            "Requirement already satisfied: prettytable in /usr/local/lib/python3.10/dist-packages (from nni->longling[ml]>=1.3.15->EduData) (3.11.0)\n",
            "Requirement already satisfied: psutil in /usr/local/lib/python3.10/dist-packages (from nni->longling[ml]>=1.3.15->EduData) (5.9.5)\n",
            "Collecting PythonWebHDFS (from nni->longling[ml]>=1.3.15->EduData)\n",
            "  Downloading PythonWebHDFS-0.2.3-py3-none-any.whl.metadata (717 bytes)\n",
            "Collecting responses (from nni->longling[ml]>=1.3.15->EduData)\n",
            "  Downloading responses-0.25.3-py3-none-any.whl.metadata (46 kB)\n",
            "\u001b[2K     \u001b[90m━━━━━━━━━━━━━━━━━━━━━━━━━━━━━━━━━━━━━━━━\u001b[0m \u001b[32m46.7/46.7 kB\u001b[0m \u001b[31m1.8 MB/s\u001b[0m eta \u001b[36m0:00:00\u001b[0m\n",
            "\u001b[?25hCollecting schema (from nni->longling[ml]>=1.3.15->EduData)\n",
            "  Downloading schema-0.7.7-py2.py3-none-any.whl.metadata (34 kB)\n",
            "Collecting typeguard<4.1.3,>=3.0.0 (from nni->longling[ml]>=1.3.15->EduData)\n",
            "  Downloading typeguard-4.1.2-py3-none-any.whl.metadata (3.7 kB)\n",
            "Requirement already satisfied: typing-extensions>=4.7.0 in /usr/local/lib/python3.10/dist-packages (from nni->longling[ml]>=1.3.15->EduData) (4.12.2)\n",
            "Collecting websockets>=10.1 (from nni->longling[ml]>=1.3.15->EduData)\n",
            "  Downloading websockets-13.1-cp310-cp310-manylinux_2_5_x86_64.manylinux1_x86_64.manylinux_2_17_x86_64.manylinux2014_x86_64.whl.metadata (6.8 kB)\n",
            "Requirement already satisfied: wcwidth in /usr/local/lib/python3.10/dist-packages (from prettytable->nni->longling[ml]>=1.3.15->EduData) (0.2.13)\n",
            "Collecting simplejson (from PythonWebHDFS->nni->longling[ml]>=1.3.15->EduData)\n",
            "  Downloading simplejson-3.19.3-cp310-cp310-manylinux_2_5_x86_64.manylinux1_x86_64.manylinux_2_17_x86_64.manylinux2014_x86_64.whl.metadata (3.2 kB)\n",
            "Downloading EduData-0.0.18-py3-none-any.whl (29 kB)\n",
            "Downloading bs4-0.0.2-py2.py3-none-any.whl (1.2 kB)\n",
            "Downloading rarfile-4.2-py3-none-any.whl (29 kB)\n",
            "Downloading nni-3.0-py3-none-manylinux1_x86_64.whl (61.4 MB)\n",
            "\u001b[2K   \u001b[90m━━━━━━━━━━━━━━━━━━━━━━━━━━━━━━━━━━━━━━━━\u001b[0m \u001b[32m61.4/61.4 MB\u001b[0m \u001b[31m9.5 MB/s\u001b[0m eta \u001b[36m0:00:00\u001b[0m\n",
            "\u001b[?25hDownloading filelock-3.11.0-py3-none-any.whl (10.0 kB)\n",
            "Downloading json_tricks-3.17.3-py2.py3-none-any.whl (27 kB)\n",
            "Downloading typeguard-4.1.2-py3-none-any.whl (33 kB)\n",
            "Downloading websockets-13.1-cp310-cp310-manylinux_2_5_x86_64.manylinux1_x86_64.manylinux_2_17_x86_64.manylinux2014_x86_64.whl (164 kB)\n",
            "\u001b[2K   \u001b[90m━━━━━━━━━━━━━━━━━━━━━━━━━━━━━━━━━━━━━━━━\u001b[0m \u001b[32m164.1/164.1 kB\u001b[0m \u001b[31m11.0 MB/s\u001b[0m eta \u001b[36m0:00:00\u001b[0m\n",
            "\u001b[?25hDownloading astor-0.8.1-py2.py3-none-any.whl (27 kB)\n",
            "Downloading colorama-0.4.6-py2.py3-none-any.whl (25 kB)\n",
            "Downloading nvidia_ml_py-12.560.30-py3-none-any.whl (40 kB)\n",
            "\u001b[2K   \u001b[90m━━━━━━━━━━━━━━━━━━━━━━━━━━━━━━━━━━━━━━━━\u001b[0m \u001b[32m40.5/40.5 kB\u001b[0m \u001b[31m1.5 MB/s\u001b[0m eta \u001b[36m0:00:00\u001b[0m\n",
            "\u001b[?25hDownloading PythonWebHDFS-0.2.3-py3-none-any.whl (10 kB)\n",
            "Downloading responses-0.25.3-py3-none-any.whl (55 kB)\n",
            "\u001b[2K   \u001b[90m━━━━━━━━━━━━━━━━━━━━━━━━━━━━━━━━━━━━━━━━\u001b[0m \u001b[32m55.2/55.2 kB\u001b[0m \u001b[31m2.7 MB/s\u001b[0m eta \u001b[36m0:00:00\u001b[0m\n",
            "\u001b[?25hDownloading schema-0.7.7-py2.py3-none-any.whl (18 kB)\n",
            "Downloading simplejson-3.19.3-cp310-cp310-manylinux_2_5_x86_64.manylinux1_x86_64.manylinux_2_17_x86_64.manylinux2014_x86_64.whl (137 kB)\n",
            "\u001b[2K   \u001b[90m━━━━━━━━━━━━━━━━━━━━━━━━━━━━━━━━━━━━━━━━\u001b[0m \u001b[32m137.9/137.9 kB\u001b[0m \u001b[31m7.7 MB/s\u001b[0m eta \u001b[36m0:00:00\u001b[0m\n",
            "\u001b[?25hInstalling collected packages: schema, nvidia-ml-py, json-tricks, websockets, typeguard, simplejson, rarfile, filelock, colorama, astor, responses, PythonWebHDFS, bs4, nni, EduData\n",
            "  Attempting uninstall: typeguard\n",
            "    Found existing installation: typeguard 4.3.0\n",
            "    Uninstalling typeguard-4.3.0:\n",
            "      Successfully uninstalled typeguard-4.3.0\n",
            "  Attempting uninstall: filelock\n",
            "    Found existing installation: filelock 3.16.1\n",
            "    Uninstalling filelock-3.16.1:\n",
            "      Successfully uninstalled filelock-3.16.1\n",
            "\u001b[31mERROR: pip's dependency resolver does not currently take into account all the packages that are installed. This behaviour is the source of the following dependency conflicts.\n",
            "pytensor 2.25.4 requires filelock>=3.15, but you have filelock 3.11.0 which is incompatible.\u001b[0m\u001b[31m\n",
            "\u001b[0mSuccessfully installed EduData-0.0.18 PythonWebHDFS-0.2.3 astor-0.8.1 bs4-0.0.2 colorama-0.4.6 filelock-3.11.0 json-tricks-3.17.3 nni-3.0 nvidia-ml-py-12.560.30 rarfile-4.2 responses-0.25.3 schema-0.7.7 simplejson-3.19.3 typeguard-4.1.2 websockets-13.1\n"
          ]
        }
      ],
      "source": [
        "!pip install EduCDM\n",
        "!pip install EduData"
      ]
    },
    {
      "cell_type": "code",
      "execution_count": 1,
      "metadata": {
        "colab": {
          "base_uri": "https://localhost:8080/"
        },
        "id": "JxvuxTPK0uRZ",
        "outputId": "784c007d-1802-4d98-d9b6-42bc9820eb0e"
      },
      "outputs": [
        {
          "name": "stdout",
          "output_type": "stream",
          "text": [
            "c:\\programming\\codefile\\newgit\\fairness\n"
          ]
        }
      ],
      "source": [
        "import os\n",
        "\n",
        "# 获取当前工作目录\n",
        "current_path = os.getcwd()\n",
        "print(current_path)"
      ]
    },
    {
      "cell_type": "code",
      "execution_count": 11,
      "metadata": {
        "colab": {
          "base_uri": "https://localhost:8080/"
        },
        "id": "sQmDj1qDu-zI",
        "outputId": "d7f4897c-0322-42f7-bcc0-3a2af43697d1"
      },
      "outputs": [
        {
          "name": "stdout",
          "output_type": "stream",
          "text": [
            "['.config', 'Fairness-framework', 'sample_data']\n"
          ]
        }
      ],
      "source": [
        "# 列出当前目录下的所有文件和文件夹\n",
        "print(os.listdir())"
      ]
    },
    {
      "cell_type": "code",
      "execution_count": 13,
      "metadata": {
        "colab": {
          "base_uri": "https://localhost:8080/"
        },
        "id": "lc3Dl1JS1T5z",
        "outputId": "065b713f-9d77-4275-ecc1-ed7317ea53b7"
      },
      "outputs": [
        {
          "name": "stdout",
          "output_type": "stream",
          "text": [
            "a0910  all_virtual_user_data.py  test_data.py\n"
          ]
        }
      ],
      "source": [
        "!ls /content/Fairness-framework/data/"
      ]
    },
    {
      "cell_type": "code",
      "execution_count": 2,
      "metadata": {
        "colab": {
          "base_uri": "https://localhost:8080/"
        },
        "id": "ONms9_HB1gUM",
        "outputId": "90b6e61b-3126-49c4-dba7-8f25327ece6f"
      },
      "outputs": [
        {
          "name": "stdout",
          "output_type": "stream",
          "text": [
            "当前工作目录: c:\\programming\\codefile\\newgit\\fairness\n"
          ]
        },
        {
          "ename": "FileNotFoundError",
          "evalue": "[WinError 3] 系统找不到指定的路径。: '/content/Fairness-framework/data/'",
          "output_type": "error",
          "traceback": [
            "\u001b[1;31m---------------------------------------------------------------------------\u001b[0m",
            "\u001b[1;31mFileNotFoundError\u001b[0m                         Traceback (most recent call last)",
            "Cell \u001b[1;32mIn[2], line 7\u001b[0m\n\u001b[0;32m      4\u001b[0m \u001b[38;5;28mprint\u001b[39m(\u001b[38;5;124m\"\u001b[39m\u001b[38;5;124m当前工作目录:\u001b[39m\u001b[38;5;124m\"\u001b[39m, os\u001b[38;5;241m.\u001b[39mgetcwd())\n\u001b[0;32m      6\u001b[0m \u001b[38;5;66;03m# 如果需要，更改工作目录\u001b[39;00m\n\u001b[1;32m----> 7\u001b[0m \u001b[43mos\u001b[49m\u001b[38;5;241;43m.\u001b[39;49m\u001b[43mchdir\u001b[49m\u001b[43m(\u001b[49m\u001b[38;5;124;43m'\u001b[39;49m\u001b[38;5;124;43m/content/Fairness-framework/data/\u001b[39;49m\u001b[38;5;124;43m'\u001b[39;49m\u001b[43m)\u001b[49m\n\u001b[0;32m      8\u001b[0m \u001b[38;5;28mprint\u001b[39m(\u001b[38;5;124m\"\u001b[39m\u001b[38;5;124m更改后的工作目录:\u001b[39m\u001b[38;5;124m\"\u001b[39m, os\u001b[38;5;241m.\u001b[39mgetcwd())\n",
            "\u001b[1;31mFileNotFoundError\u001b[0m: [WinError 3] 系统找不到指定的路径。: '/content/Fairness-framework/data/'"
          ]
        }
      ],
      "source": [
        "import os\n",
        "\n",
        "# 打印当前工作目录\n",
        "print(\"当前工作目录:\", os.getcwd())\n",
        "\n",
        "# 如果需要，更改工作目录\n",
        "# os.chdir('/content/Fairness-framework/data/')\n",
        "print(\"更改后的工作目录:\", os.getcwd())# -*- coding: utf-8 -*-"
      ]
    },
    {
      "cell_type": "code",
      "execution_count": 17,
      "metadata": {
        "colab": {
          "base_uri": "https://localhost:8080/"
        },
        "id": "GAA-C4Yd1nzO",
        "outputId": "4cf1d753-8982-482f-8aef-37e493a465d8"
      },
      "outputs": [
        {
          "name": "stdout",
          "output_type": "stream",
          "text": [
            "All virtual scores saved to all_virtual_user_data.csv in sorted order by virtual_user_id\n"
          ]
        }
      ],
      "source": [
        "import os\n",
        "\n",
        "# 定义文件保存路径\n",
        "save_path = './data/a0910/all_virtual_user_data.csv'\n",
        "\n",
        "# 创建目录\n",
        "os.makedirs(os.path.dirname(save_path), exist_ok=True)\n",
        "\n",
        "# 保存CSV文件\n",
        "df_all_virtual_scores.to_csv(save_path, index=False)\n",
        "print('All virtual scores saved to all_virtual_user_data.csv in sorted order by virtual_user_id')"
      ]
    },
    {
      "cell_type": "code",
      "execution_count": 18,
      "metadata": {
        "colab": {
          "base_uri": "https://localhost:8080/"
        },
        "id": "JYJ_ykrM17Ps",
        "outputId": "0e88277e-4547-41a6-ee47-1b2d97ba2eb4"
      },
      "outputs": [
        {
          "name": "stdout",
          "output_type": "stream",
          "text": [
            "All virtual scores saved to all_virtual_user_data.csv in sorted order by virtual_user_id\n",
            "Data has been split and saved as virtual_user_train_data.csv, virtual_user_valid_data.csv, and virtual_user_test_data.csv.\n"
          ]
        }
      ],
      "source": [
        "%run all_virtual_user_data.py"
      ]
    },
    {
      "cell_type": "code",
      "execution_count": 21,
      "metadata": {
        "colab": {
          "base_uri": "https://localhost:8080/"
        },
        "id": "nwjwE8Yl2XwU",
        "outputId": "2f62117d-6240-4550-c118-dde1564f10b8"
      },
      "outputs": [
        {
          "name": "stderr",
          "output_type": "stream",
          "text": [
            "Epoch 0: 100%|██████████| 5574/5574 [00:48<00:00, 114.94it/s]\n"
          ]
        },
        {
          "name": "stdout",
          "output_type": "stream",
          "text": [
            "[Epoch 0] LogisticLoss: 0.826519\n"
          ]
        },
        {
          "name": "stderr",
          "output_type": "stream",
          "text": [
            "evaluating: 100%|██████████| 1202/1202 [00:06<00:00, 199.62it/s]\n"
          ]
        },
        {
          "name": "stdout",
          "output_type": "stream",
          "text": [
            "[Epoch 0] auc: 0.548350, accuracy: 0.640874\n"
          ]
        },
        {
          "name": "stderr",
          "output_type": "stream",
          "text": [
            "Epoch 1: 100%|██████████| 5574/5574 [00:50<00:00, 110.98it/s]\n"
          ]
        },
        {
          "name": "stdout",
          "output_type": "stream",
          "text": [
            "[Epoch 1] LogisticLoss: 0.736763\n"
          ]
        },
        {
          "name": "stderr",
          "output_type": "stream",
          "text": [
            "evaluating: 100%|██████████| 1202/1202 [00:06<00:00, 189.51it/s]\n"
          ]
        },
        {
          "name": "stdout",
          "output_type": "stream",
          "text": [
            "[Epoch 1] auc: 0.594188, accuracy: 0.655092\n"
          ]
        },
        {
          "name": "stderr",
          "output_type": "stream",
          "text": [
            "Epoch 2: 100%|██████████| 5574/5574 [00:50<00:00, 109.46it/s]\n"
          ]
        },
        {
          "name": "stdout",
          "output_type": "stream",
          "text": [
            "[Epoch 2] LogisticLoss: 0.682505\n"
          ]
        },
        {
          "name": "stderr",
          "output_type": "stream",
          "text": [
            "evaluating: 100%|██████████| 1202/1202 [00:05<00:00, 205.12it/s]\n"
          ]
        },
        {
          "name": "stdout",
          "output_type": "stream",
          "text": [
            "[Epoch 2] auc: 0.628485, accuracy: 0.665050\n"
          ]
        },
        {
          "name": "stderr",
          "output_type": "stream",
          "text": [
            "Epoch 3: 100%|██████████| 5574/5574 [00:50<00:00, 110.32it/s]\n"
          ]
        },
        {
          "name": "stdout",
          "output_type": "stream",
          "text": [
            "[Epoch 3] LogisticLoss: 0.647721\n"
          ]
        },
        {
          "name": "stderr",
          "output_type": "stream",
          "text": [
            "evaluating: 100%|██████████| 1202/1202 [00:05<00:00, 232.55it/s]\n"
          ]
        },
        {
          "name": "stdout",
          "output_type": "stream",
          "text": [
            "[Epoch 3] auc: 0.652112, accuracy: 0.672547\n"
          ]
        },
        {
          "name": "stderr",
          "output_type": "stream",
          "text": [
            "Epoch 4: 100%|██████████| 5574/5574 [00:50<00:00, 109.97it/s]\n"
          ]
        },
        {
          "name": "stdout",
          "output_type": "stream",
          "text": [
            "[Epoch 4] LogisticLoss: 0.624927\n"
          ]
        },
        {
          "name": "stderr",
          "output_type": "stream",
          "text": [
            "evaluating: 100%|██████████| 1202/1202 [00:04<00:00, 246.45it/s]\n"
          ]
        },
        {
          "name": "stdout",
          "output_type": "stream",
          "text": [
            "[Epoch 4] auc: 0.668272, accuracy: 0.678084\n"
          ]
        },
        {
          "name": "stderr",
          "output_type": "stream",
          "text": [
            "Epoch 5: 100%|██████████| 5574/5574 [00:50<00:00, 110.06it/s]\n"
          ]
        },
        {
          "name": "stdout",
          "output_type": "stream",
          "text": [
            "[Epoch 5] LogisticLoss: 0.608867\n"
          ]
        },
        {
          "name": "stderr",
          "output_type": "stream",
          "text": [
            "evaluating: 100%|██████████| 1202/1202 [00:06<00:00, 184.93it/s]\n"
          ]
        },
        {
          "name": "stdout",
          "output_type": "stream",
          "text": [
            "[Epoch 5] auc: 0.679538, accuracy: 0.681845\n"
          ]
        },
        {
          "name": "stderr",
          "output_type": "stream",
          "text": [
            "Epoch 6: 100%|██████████| 5574/5574 [00:51<00:00, 108.96it/s]\n"
          ]
        },
        {
          "name": "stdout",
          "output_type": "stream",
          "text": [
            "[Epoch 6] LogisticLoss: 0.596813\n"
          ]
        },
        {
          "name": "stderr",
          "output_type": "stream",
          "text": [
            "evaluating: 100%|██████████| 1202/1202 [00:06<00:00, 187.51it/s]\n"
          ]
        },
        {
          "name": "stdout",
          "output_type": "stream",
          "text": [
            "[Epoch 6] auc: 0.687588, accuracy: 0.685080\n"
          ]
        },
        {
          "name": "stderr",
          "output_type": "stream",
          "text": [
            "Epoch 7: 100%|██████████| 5574/5574 [00:51<00:00, 109.29it/s]\n"
          ]
        },
        {
          "name": "stdout",
          "output_type": "stream",
          "text": [
            "[Epoch 7] LogisticLoss: 0.587624\n"
          ]
        },
        {
          "name": "stderr",
          "output_type": "stream",
          "text": [
            "evaluating: 100%|██████████| 1202/1202 [00:04<00:00, 241.24it/s]\n"
          ]
        },
        {
          "name": "stdout",
          "output_type": "stream",
          "text": [
            "[Epoch 7] auc: 0.693485, accuracy: 0.687213\n"
          ]
        },
        {
          "name": "stderr",
          "output_type": "stream",
          "text": [
            "Epoch 8: 100%|██████████| 5574/5574 [00:50<00:00, 110.92it/s]\n"
          ]
        },
        {
          "name": "stdout",
          "output_type": "stream",
          "text": [
            "[Epoch 8] LogisticLoss: 0.580417\n"
          ]
        },
        {
          "name": "stderr",
          "output_type": "stream",
          "text": [
            "evaluating: 100%|██████████| 1202/1202 [00:05<00:00, 202.36it/s]\n"
          ]
        },
        {
          "name": "stdout",
          "output_type": "stream",
          "text": [
            "[Epoch 8] auc: 0.697902, accuracy: 0.689105\n"
          ]
        },
        {
          "name": "stderr",
          "output_type": "stream",
          "text": [
            "Epoch 9: 100%|██████████| 5574/5574 [00:51<00:00, 107.21it/s]\n"
          ]
        },
        {
          "name": "stdout",
          "output_type": "stream",
          "text": [
            "[Epoch 9] LogisticLoss: 0.574437\n"
          ]
        },
        {
          "name": "stderr",
          "output_type": "stream",
          "text": [
            "evaluating: 100%|██████████| 1202/1202 [00:05<00:00, 200.93it/s]\n",
            "/content/Fairness-framework/IRT/IRT.py:115: FutureWarning: You are using `torch.load` with `weights_only=False` (the current default value), which uses the default pickle module implicitly. It is possible to construct malicious pickle data which will execute arbitrary code during unpickling (See https://github.com/pytorch/pytorch/blob/main/SECURITY.md#untrusted-models for more details). In a future release, the default value for `weights_only` will be flipped to `True`. This limits the functions that could be executed during unpickling. Arbitrary objects will no longer be allowed to be loaded via this mode unless they are explicitly allowlisted by the user via `torch.serialization.add_safe_globals`. We recommend you start setting `weights_only=True` for any use case where you don't have full control of the loaded file. Please open an issue on GitHub for any issues related to this experimental feature.\n",
            "  self.irt_net.load_state_dict(torch.load(filepath))\n"
          ]
        },
        {
          "name": "stdout",
          "output_type": "stream",
          "text": [
            "[Epoch 9] auc: 0.701272, accuracy: 0.690578\n"
          ]
        },
        {
          "name": "stderr",
          "output_type": "stream",
          "text": [
            "evaluating: 100%|██████████| 1220/1220 [00:05<00:00, 239.87it/s]\n"
          ]
        },
        {
          "name": "stdout",
          "output_type": "stream",
          "text": [
            "Test AUC: 0.705350933176005, Test Accuracy: 0.6899913497581136\n"
          ]
        },
        {
          "name": "stderr",
          "output_type": "stream",
          "text": [
            "Extracting abilities: 100%|██████████| 7995/7995 [00:49<00:00, 162.02it/s]\n"
          ]
        },
        {
          "name": "stdout",
          "output_type": "stream",
          "text": [
            "Ability parameters saved to v_ability_parameters.csv\n"
          ]
        }
      ],
      "source": [
        "%run /content/Fairness-framework/IRT/test_IRT.py"
      ]
    },
    {
      "cell_type": "code",
      "execution_count": 23,
      "metadata": {
        "colab": {
          "base_uri": "https://localhost:8080/"
        },
        "id": "iAtSvWVk9W9x",
        "outputId": "16591ab2-a6ce-4b3a-cc31-7c71b8560b8e"
      },
      "outputs": [
        {
          "name": "stdout",
          "output_type": "stream",
          "text": [
            "Average Spearman Correlation: -0.12340735878642017\n",
            "Overall NDCG: tensor(1.)\n",
            "Total Loss: tensor(0.1234)\n"
          ]
        }
      ],
      "source": [
        "import pandas as pd\n",
        "import numpy as np\n",
        "from scipy.stats import spearmanr\n",
        "import torch\n",
        "from torch import optim\n",
        "\n",
        "# 读取数据\n",
        "df = pd.read_csv('/content/Fairness-framework/v_ability_parameters.csv')\n",
        "\n",
        "# 计算组内Spearman等级相关系数\n",
        "spearman_correlations = []\n",
        "for origin_id in df['origin_id'].unique():\n",
        "    group_data = df[df['origin_id'] == origin_id]\n",
        "    prior_ranks = group_data['user_id'].values\n",
        "    theta_values = group_data['theta'].values\n",
        "\n",
        "    # 为先验排名和测验后排名创建排名（排名越小越好）\n",
        "    prior_ranking = np.argsort(-prior_ranks)\n",
        "    theta_ranking = np.argsort(-theta_values)\n",
        "\n",
        "    # 计算Spearman等级相关系数\n",
        "    correlation, _ = spearmanr(prior_ranking, theta_ranking)\n",
        "    spearman_correlations.append(correlation)\n",
        "\n",
        "# 计算平均Spearman等级相关系数\n",
        "average_spearman_correlation = np.mean(spearman_correlations)\n",
        "print(\"Average Spearman Correlation:\", average_spearman_correlation)\n",
        "\n",
        "# 定义DCG计算\n",
        "def dcg_computation(score_rank, top_k):\n",
        "    c = 2 * torch.ones_like(score_rank)[:top_k]\n",
        "    numerator = c.pow(score_rank[:top_k]) - 1\n",
        "    denominator = torch.log2(2 + torch.arange(score_rank[:top_k].shape[0], dtype=torch.float))\n",
        "    final = numerator / denominator\n",
        "\n",
        "    return torch.sum(final)\n",
        "\n",
        "# 定义IDCG计算\n",
        "def idcg_computation(x_sorted_scores, top_k):\n",
        "    c = 2 * torch.ones_like(x_sorted_scores)[:top_k]\n",
        "    numerator = c.pow(x_sorted_scores[:top_k]) - 1\n",
        "    denominator = torch.log2(2 + torch.arange(x_sorted_scores[:top_k].shape[0], dtype=torch.float))\n",
        "    final = numerator / denominator\n",
        "\n",
        "    return torch.sum(final)\n",
        "\n",
        "# 定义NDCG计算\n",
        "def compute_ndcg(true_ranking, predicted_ranking, top_k):\n",
        "    # 将排名转换为得分\n",
        "    true_scores = -np.array(true_ranking)\n",
        "    predicted_scores = -np.array(predicted_ranking)\n",
        "\n",
        "    # 转换为tensor\n",
        "    true_scores_tensor = torch.tensor(true_scores, dtype=torch.float32)\n",
        "    predicted_scores_tensor = torch.tensor(predicted_scores, dtype=torch.float32)\n",
        "\n",
        "    # 计算DCG\n",
        "    true_dcg = dcg_computation(true_scores_tensor, top_k)\n",
        "    predicted_dcg = dcg_computation(predicted_scores_tensor, top_k)\n",
        "\n",
        "    # 计算IDCG\n",
        "    true_idcg = idcg_computation(true_scores_tensor, top_k)\n",
        "\n",
        "    # 计算NDCG\n",
        "    if true_idcg == 0:\n",
        "        return 0\n",
        "    return predicted_dcg / true_idcg\n",
        "\n",
        "# 计算整体NDCG\n",
        "all_prior_ranking = np.argsort(-df['user_id'].values)\n",
        "all_theta_ranking = np.argsort(-df['theta'].values)\n",
        "overall_ndcg = compute_ndcg(all_prior_ranking, all_theta_ranking, top_k=10)\n",
        "print(\"Overall NDCG:\", overall_ndcg)\n",
        "\n",
        "# 定义损失函数\n",
        "def loss_function(spearman_corr, ndcg):\n",
        "    # 组内损失：Spearman相关系数的负值的均方\n",
        "    spearman_loss = -spearman_corr.mean()\n",
        "\n",
        "    # 组间损失：1 - NDCG（因为NDCG越接近1越好）\n",
        "    ndcg_loss = 1 - ndcg\n",
        "\n",
        "    # 总损失：加权求和\n",
        "    total_loss = spearman_loss + ndcg_loss\n",
        "    return total_loss\n",
        "\n",
        "# 调用损失函数\n",
        "loss = loss_function(average_spearman_correlation, overall_ndcg)\n",
        "print(\"Total Loss:\", loss)"
      ]
    },
    {
      "cell_type": "code",
      "execution_count": 24,
      "metadata": {
        "colab": {
          "base_uri": "https://localhost:8080/"
        },
        "id": "B_E_cCZLEmev",
        "outputId": "972f153d-9600-4eca-b97c-5e3203268955"
      },
      "outputs": [
        {
          "name": "stdout",
          "output_type": "stream",
          "text": [
            "Average NDCG: 1.5210249214935803e-06\n",
            "Total Loss: 0.9999984789750785\n"
          ]
        }
      ],
      "source": [
        "import pandas as pd\n",
        "import numpy as np\n",
        "from scipy.stats import spearmanr\n",
        "\n",
        "# 读取数据\n",
        "df = pd.read_csv('/content/Fairness-framework/v_ability_parameters.csv')\n",
        "\n",
        "# 定义DCG计算函数\n",
        "def dcg(ranks, scores, top_k):\n",
        "    # ranks 是排名，scores 是对应的分数\n",
        "    discounted_scores = np.power(2, scores)[:top_k] - 1\n",
        "    discounts = np.log2(np.arange(2, top_k + 2))\n",
        "    return np.sum(discounted_scores / discounts)\n",
        "\n",
        "# 定义NDCG计算函数\n",
        "def ndcg(ranks_true, ranks_pred, top_k):\n",
        "    dcg_true = dcg(ranks_true, ranks_true, top_k)\n",
        "    dcg_pred = dcg(ranks_pred, ranks_pred, top_k)\n",
        "    idcg_true = dcg(ranks_true, ranks_true, top_k)\n",
        "    return dcg_pred / idcg_true if idcg_true > 0 else 0\n",
        "\n",
        "# 计算每个组的NDCG\n",
        "ndcgs = []\n",
        "for origin_id in df['origin_id'].unique():\n",
        "    group_data = df[df['origin_id'] == origin_id]\n",
        "    true_ranks = group_data['user_id'].values\n",
        "    pred_ranks = group_data['theta'].values\n",
        "    ndcg_score = ndcg(true_ranks, pred_ranks, top_k=10)\n",
        "    ndcgs.append(ndcg_score)\n",
        "\n",
        "# 计算平均NDCG\n",
        "average_ndcg = np.mean(ndcgs)\n",
        "print(\"Average NDCG:\", average_ndcg)\n",
        "\n",
        "# 定义损失函数\n",
        "def loss_function(average_ndcg):\n",
        "    # 组内损失：1 - 平均NDCG\n",
        "    fairness_loss = 1 - average_ndcg\n",
        "    return fairness_loss\n",
        "\n",
        "# 调用损失函数\n",
        "loss = loss_function(average_ndcg)\n",
        "print(\"Total Loss:\", loss)"
      ]
    },
    {
      "cell_type": "code",
      "execution_count": 25,
      "metadata": {
        "colab": {
          "base_uri": "https://localhost:8080/"
        },
        "id": "8AgMGk6OEn8N",
        "outputId": "d693f2e6-85c2-4c84-8ccc-75fca91409da"
      },
      "outputs": [
        {
          "name": "stdout",
          "output_type": "stream",
          "text": [
            "Average Spearman Correlation: -0.12340735878642017\n",
            "Total Loss: 1.1234073587864202\n"
          ]
        }
      ],
      "source": [
        "import pandas as pd\n",
        "import numpy as np\n",
        "from scipy.stats import spearmanr\n",
        "\n",
        "# 读取数据\n",
        "df = pd.read_csv('/content/Fairness-framework/v_ability_parameters.csv')\n",
        "\n",
        "# 计算组内Spearman等级相关系数\n",
        "spearman_correlations = []\n",
        "for origin_id in df['origin_id'].unique():\n",
        "    group_data = df[df['origin_id'] == origin_id]\n",
        "    prior_ranks = group_data['user_id'].values\n",
        "    theta_values = group_data['theta'].values\n",
        "\n",
        "    # 为先验排名和测验后排名创建排名（排名越小越好）\n",
        "    prior_ranking = np.argsort(-prior_ranks)\n",
        "    theta_ranking = np.argsort(-theta_values)\n",
        "\n",
        "    # 计算Spearman等级相关系数\n",
        "    correlation, _ = spearmanr(prior_ranking, theta_ranking)\n",
        "    spearman_correlations.append(correlation)\n",
        "\n",
        "# 计算平均Spearman等级相关系数\n",
        "average_spearman_correlation = np.mean(spearman_correlations)\n",
        "print(\"Average Spearman Correlation:\", average_spearman_correlation)\n",
        "\n",
        "# 定义损失函数\n",
        "def loss_function(average_spearman_correlation):\n",
        "    # 组内损失：1 - 平均Spearman相关系数\n",
        "    spearman_loss = 1 - average_spearman_correlation\n",
        "\n",
        "    return spearman_loss\n",
        "\n",
        "# 调用损失函数\n",
        "loss = loss_function(average_spearman_correlation)\n",
        "print(\"Total Loss:\", loss)"
      ]
    }
  ],
  "metadata": {
    "colab": {
      "provenance": []
    },
    "kernelspec": {
      "display_name": "Python 3",
      "name": "python3"
    },
    "language_info": {
      "codemirror_mode": {
        "name": "ipython",
        "version": 3
      },
      "file_extension": ".py",
      "mimetype": "text/x-python",
      "name": "python",
      "nbconvert_exporter": "python",
      "pygments_lexer": "ipython3",
      "version": "3.11.1"
    }
  },
  "nbformat": 4,
  "nbformat_minor": 0
}
